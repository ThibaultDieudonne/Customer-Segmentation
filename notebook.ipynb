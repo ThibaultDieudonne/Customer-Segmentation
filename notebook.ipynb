{
 "cells": [
  {
   "cell_type": "code",
   "execution_count": 16,
   "id": "alternate-barcelona",
   "metadata": {},
   "outputs": [],
   "source": [
    "import os\n",
    "import numpy as np\n",
    "import pandas as pd\n",
    "import gc\n",
    "import matplotlib.pyplot as plt\n",
    "import seaborn as sns\n",
    "from datetime import datetime\n",
    "import warnings\n",
    "warnings.simplefilter(action='ignore', category=FutureWarning)\n",
    "\n",
    "# debug\n",
    "debug = False\n",
    "if not debug:\n",
    "    num_rows = None\n",
    "else:\n",
    "    num_rows = 10000\n",
    "    \n",
    "def str_to_datetime(strg):\n",
    "    return datetime.strptime(strg, '%Y-%m-%d %H:%M:%S')\n",
    "    "
   ]
  },
  {
   "cell_type": "markdown",
   "id": "functional-billy",
   "metadata": {},
   "source": [
    "# Présentation du jeu de données\n",
    "\n",
    "**Ce diagramme présente les relations entre les données:**\n",
    "\n",
    "![image](https://i.imgur.com/HRhd2Y0.png)\n",
    "\n",
    "L'objectif est de segmenter les clients. Cependant, la base de donnée \"customers\" contient non pas une ligne par client mais une ligne par commande. On va donc créer notre propre dataframe a partir du jeu de données fourni."
   ]
  },
  {
   "cell_type": "markdown",
   "id": "passing-projector",
   "metadata": {},
   "source": [
    "# Analyse exploratoire & Feature engineering"
   ]
  },
  {
   "cell_type": "code",
   "execution_count": 26,
   "id": "interested-prayer",
   "metadata": {},
   "outputs": [
    {
     "data": {
      "text/html": [
       "<div>\n",
       "<style scoped>\n",
       "    .dataframe tbody tr th:only-of-type {\n",
       "        vertical-align: middle;\n",
       "    }\n",
       "\n",
       "    .dataframe tbody tr th {\n",
       "        vertical-align: top;\n",
       "    }\n",
       "\n",
       "    .dataframe thead th {\n",
       "        text-align: right;\n",
       "    }\n",
       "</style>\n",
       "<table border=\"1\" class=\"dataframe\">\n",
       "  <thead>\n",
       "    <tr style=\"text-align: right;\">\n",
       "      <th></th>\n",
       "      <th>orders_count</th>\n",
       "      <th>shipping_delay_mean</th>\n",
       "      <th>payment_delay_mean</th>\n",
       "    </tr>\n",
       "    <tr>\n",
       "      <th>customer_unique_id</th>\n",
       "      <th></th>\n",
       "      <th></th>\n",
       "      <th></th>\n",
       "    </tr>\n",
       "  </thead>\n",
       "  <tbody>\n",
       "    <tr>\n",
       "      <th>0000366f3b9a7992bf8c76cfdf3221e2</th>\n",
       "      <td>1</td>\n",
       "      <td>6.400914</td>\n",
       "      <td>14.850000</td>\n",
       "    </tr>\n",
       "    <tr>\n",
       "      <th>0000b849f77a49e4a4ce2b2a4ca5be3f</th>\n",
       "      <td>1</td>\n",
       "      <td>2.984005</td>\n",
       "      <td>434.283333</td>\n",
       "    </tr>\n",
       "    <tr>\n",
       "      <th>0000f46a3911fa3c0805444483337064</th>\n",
       "      <td>1</td>\n",
       "      <td>25.731759</td>\n",
       "      <td>0.000000</td>\n",
       "    </tr>\n",
       "    <tr>\n",
       "      <th>0000f6ccb0745a6a4b88665a16c9f078</th>\n",
       "      <td>1</td>\n",
       "      <td>20.023472</td>\n",
       "      <td>19.600000</td>\n",
       "    </tr>\n",
       "    <tr>\n",
       "      <th>0004aac84e0df4da2b147fca70cf8255</th>\n",
       "      <td>1</td>\n",
       "      <td>13.126435</td>\n",
       "      <td>21.166667</td>\n",
       "    </tr>\n",
       "  </tbody>\n",
       "</table>\n",
       "</div>"
      ],
      "text/plain": [
       "                                  orders_count  shipping_delay_mean  \\\n",
       "customer_unique_id                                                    \n",
       "0000366f3b9a7992bf8c76cfdf3221e2             1             6.400914   \n",
       "0000b849f77a49e4a4ce2b2a4ca5be3f             1             2.984005   \n",
       "0000f46a3911fa3c0805444483337064             1            25.731759   \n",
       "0000f6ccb0745a6a4b88665a16c9f078             1            20.023472   \n",
       "0004aac84e0df4da2b147fca70cf8255             1            13.126435   \n",
       "\n",
       "                                  payment_delay_mean  \n",
       "customer_unique_id                                    \n",
       "0000366f3b9a7992bf8c76cfdf3221e2           14.850000  \n",
       "0000b849f77a49e4a4ce2b2a4ca5be3f          434.283333  \n",
       "0000f46a3911fa3c0805444483337064            0.000000  \n",
       "0000f6ccb0745a6a4b88665a16c9f078           19.600000  \n",
       "0004aac84e0df4da2b147fca70cf8255           21.166667  "
      ]
     },
     "execution_count": 26,
     "metadata": {},
     "output_type": "execute_result"
    }
   ],
   "source": [
    "# process_customers\n",
    "app_customers = pd.read_csv('./data/olist_customers_dataset.csv', nrows= num_rows)\n",
    "app_aggs = {'customer_id': ['count']}\n",
    "app = app_customers.groupby('customer_unique_id').agg({**app_aggs})\n",
    "app.columns = pd.Index([\"orders_count\"])\n",
    "\n",
    "# make hash table: customers ids => customer unique ids\n",
    "cid_to_ucid = pd.DataFrame(data=app_customers[['customer_id', 'customer_unique_id']])\n",
    "cid_to_ucid = cid_to_ucid.set_index('customer_id')\n",
    "\n",
    "# process orders \n",
    "app_orders = pd.read_csv('./data/olist_orders_dataset.csv', nrows= num_rows)\n",
    "app_orders = app_orders.join(cid_to_ucid, how='left', on='customer_id')\n",
    "# only keep delivered orders with non NaN timestamps\n",
    "orders = app_orders[app_orders[\"order_status\"]==\"delivered\"]\n",
    "orders = orders[orders[\"order_delivered_customer_date\"].isnull()==False]\n",
    "orders = orders[orders[\"order_approved_at\"].isnull()==False]\n",
    "orders = orders[orders[\"order_purchase_timestamp\"].isnull()==False]\n",
    "# convert timestamps to datetime\n",
    "orders[\"order_delivered_customer_date\"] = orders[\"order_delivered_customer_date\"].apply(str_to_datetime)\n",
    "orders[\"order_approved_at\"] = orders[\"order_approved_at\"].apply(str_to_datetime)\n",
    "orders[\"order_purchase_timestamp\"] = orders[\"order_purchase_timestamp\"].apply(str_to_datetime)\n",
    "# create new features\n",
    "orders[\"shipping_delay\"] = orders[\"order_delivered_customer_date\"] - orders[\"order_approved_at\"]\n",
    "orders[\"payment_delay\"] = orders[\"order_approved_at\"] - orders[\"order_purchase_timestamp\"]\n",
    "# convert new features to float\n",
    "orders[\"shipping_delay\"] = orders[\"shipping_delay\"].apply(lambda x: x.total_seconds() / 86400) # days\n",
    "orders[\"payment_delay\"] = orders[\"payment_delay\"].apply(lambda x: x.total_seconds() / 60) # minutes\n",
    "# add aggregation to main dataframe\n",
    "orders_aggs = {\n",
    "    'shipping_delay': ['mean'],\n",
    "    'payment_delay': ['mean'],\n",
    "    }\n",
    "orders = orders.groupby('customer_unique_id').agg({**orders_aggs})\n",
    "orders.columns = pd.Index([e[0] + \"_\" + e[1] for e in orders.columns.tolist()])\n",
    "app = app.join(orders, how='left', on='customer_unique_id')\n",
    "\n",
    "# make hash table: order ids => customer unique ids\n",
    "oid_to_cuid = pd.DataFrame(data=app_orders[['order_id', 'customer_unique_id']])\n",
    "oid_to_cuid = oid_to_cuid.set_index('order_id')\n",
    "\n",
    "# cleaning\n",
    "del app_customers, app_orders, cid_to_ucid, oid_to_cuid, orders \n",
    "gc.collect()\n",
    "\n",
    "app.head()"
   ]
  },
  {
   "cell_type": "code",
   "execution_count": null,
   "id": "broadband-newsletter",
   "metadata": {},
   "outputs": [],
   "source": []
  },
  {
   "cell_type": "markdown",
   "id": "described-parts",
   "metadata": {},
   "source": [
    "# Réductions de dimensionnalité "
   ]
  },
  {
   "cell_type": "markdown",
   "id": "tight-creativity",
   "metadata": {},
   "source": [
    "# Classification non supervisée"
   ]
  },
  {
   "cell_type": "markdown",
   "id": "economic-rescue",
   "metadata": {},
   "source": [
    "# Résultats"
   ]
  }
 ],
 "metadata": {
  "kernelspec": {
   "display_name": "Python 3",
   "language": "python",
   "name": "python3"
  },
  "language_info": {
   "codemirror_mode": {
    "name": "ipython",
    "version": 3
   },
   "file_extension": ".py",
   "mimetype": "text/x-python",
   "name": "python",
   "nbconvert_exporter": "python",
   "pygments_lexer": "ipython3",
   "version": "3.9.1"
  }
 },
 "nbformat": 4,
 "nbformat_minor": 5
}
