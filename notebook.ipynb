{
 "cells": [
  {
   "cell_type": "code",
   "execution_count": 31,
   "id": "alternate-barcelona",
   "metadata": {},
   "outputs": [],
   "source": [
    "import os\n",
    "import numpy as np\n",
    "import pandas as pd\n",
    "import gc\n",
    "\n",
    "from sklearn.cluster import KMeans\n",
    "from sklearn.manifold import TSNE\n",
    "from sklearn import decomposition, preprocessing\n",
    "\n",
    "from functions import *\n",
    "import matplotlib.pyplot as plt\n",
    "import seaborn as sns\n",
    "from datetime import datetime\n",
    "import warnings\n",
    "warnings.simplefilter(action='ignore', category=FutureWarning)\n",
    "\n",
    "# debug\n",
    "debug = False\n",
    "if not debug:\n",
    "    num_rows = None\n",
    "else:\n",
    "    num_rows = 10000\n",
    "    \n",
    "def str_to_datetime(strg):\n",
    "    return datetime.strptime(strg, '%Y-%m-%d %H:%M:%S')\n",
    "    "
   ]
  },
  {
   "cell_type": "markdown",
   "id": "functional-billy",
   "metadata": {},
   "source": [
    "# Présentation du jeu de données\n",
    "\n",
    "**Ce diagramme présente les relations entre les données:**\n",
    "\n",
    "![image](https://i.imgur.com/HRhd2Y0.png)\n",
    "\n",
    "L'objectif est de segmenter les clients. Cependant, la base de donnée \"customers\" contient non pas une ligne par client mais une ligne par commande. On va donc créer notre propre dataframe a partir du jeu de données fourni."
   ]
  },
  {
   "cell_type": "markdown",
   "id": "passing-projector",
   "metadata": {},
   "source": [
    "# Analyse exploratoire & Feature engineering"
   ]
  },
  {
   "cell_type": "markdown",
   "id": "invalid-theorem",
   "metadata": {},
   "source": [
    "On traite d'abord le fichier client qui associe les IDs client uniques et non uniques. On génère une colonne \"nombre de commandes\", et une table d'association pour les IDs."
   ]
  },
  {
   "cell_type": "code",
   "execution_count": 32,
   "id": "interested-prayer",
   "metadata": {},
   "outputs": [],
   "source": [
    "app_customers = pd.read_csv('./data/olist_customers_dataset.csv', nrows=num_rows)\n",
    "app_aggs = {'customer_id': ['count']}\n",
    "app = app_customers.groupby('customer_unique_id').agg({**app_aggs})\n",
    "app.columns = pd.Index([\"orders_count\"])\n",
    "\n",
    "# make hash table: customers ids => customer unique ids\n",
    "cid_to_ucid = pd.DataFrame(data=app_customers[['customer_id', 'customer_unique_id']])\n",
    "cid_to_ucid = cid_to_ucid.set_index('customer_id')\n",
    "\n"
   ]
  },
  {
   "cell_type": "markdown",
   "id": "quality-oriental",
   "metadata": {},
   "source": [
    "On traite le fichier des commandes. On ne conserve que les commandes délivrées avec succès (les autres représentant des cas particulier et non des tendances de consommation). Les variables extraites sont le temps de livraison, le delai de paiement, et l'erreur de prediction pour la date de livraison. On génère également une table d'association entre l'ID des commandes et l'ID unique des clients. "
   ]
  },
  {
   "cell_type": "code",
   "execution_count": 33,
   "id": "legendary-banner",
   "metadata": {},
   "outputs": [],
   "source": [
    "# (+ estimation_error)\n",
    "app_orders = pd.read_csv('./data/olist_orders_dataset.csv', nrows=num_rows)\n",
    "app_orders = app_orders.join(cid_to_ucid, how='left', on='customer_id')\n",
    "# only keep delivered orders with non NaN timestamps\n",
    "app_orders = app_orders[app_orders[\"order_status\"]==\"delivered\"]\n",
    "app_orders = app_orders[app_orders[\"order_delivered_customer_date\"].isnull()==False]\n",
    "app_orders = app_orders[app_orders[\"order_approved_at\"].isnull()==False]\n",
    "app_orders = app_orders[app_orders[\"order_purchase_timestamp\"].isnull()==False]\n",
    "# convert timestamps to datetime\n",
    "app_orders[\"order_delivered_customer_date\"] = app_orders[\"order_delivered_customer_date\"].apply(str_to_datetime)\n",
    "app_orders[\"order_approved_at\"] = app_orders[\"order_approved_at\"].apply(str_to_datetime)\n",
    "app_orders[\"order_purchase_timestamp\"] = app_orders[\"order_purchase_timestamp\"].apply(str_to_datetime)\n",
    "# create new features\n",
    "app_orders[\"shipping_delay\"] = app_orders[\"order_delivered_customer_date\"] - app_orders[\"order_approved_at\"]\n",
    "app_orders[\"payment_delay\"] = app_orders[\"order_approved_at\"] - app_orders[\"order_purchase_timestamp\"]\n",
    "# convert new features to float\n",
    "app_orders[\"shipping_delay\"] = app_orders[\"shipping_delay\"].apply(lambda x: x.total_seconds() / 86400) # days\n",
    "app_orders[\"payment_delay\"] = app_orders[\"payment_delay\"].apply(lambda x: x.total_seconds() / 60) # minutes\n",
    "# add aggregation to main dataframe\n",
    "orders_aggs = {\n",
    "    'shipping_delay': ['mean'],\n",
    "    'payment_delay': ['mean'],\n",
    "}\n",
    "orders = app_orders.groupby('customer_unique_id').agg({**orders_aggs})\n",
    "orders.columns = pd.Index([e[0] + \"_\" + e[1] for e in orders.columns.tolist()])\n",
    "app = app.join(orders, how='left', on='customer_unique_id')\n",
    "app = app.dropna()\n",
    "\n",
    "# make hash table: order ids => customer unique ids\n",
    "oid_to_cuid = pd.DataFrame(data=app_orders[['order_id', 'customer_unique_id']])\n",
    "oid_to_cuid = oid_to_cuid.set_index('order_id')"
   ]
  },
  {
   "cell_type": "markdown",
   "id": "married-spice",
   "metadata": {},
   "source": [
    "On traite le fichier des notes et commentaires pour les commandes délivrées avec succès. On extrait les statistiques associées aux notes, la présence ou non de commentaire et le délai de leur publication."
   ]
  },
  {
   "cell_type": "code",
   "execution_count": 34,
   "id": "broadband-newsletter",
   "metadata": {},
   "outputs": [
    {
     "data": {
      "text/html": [
       "<div>\n",
       "<style scoped>\n",
       "    .dataframe tbody tr th:only-of-type {\n",
       "        vertical-align: middle;\n",
       "    }\n",
       "\n",
       "    .dataframe tbody tr th {\n",
       "        vertical-align: top;\n",
       "    }\n",
       "\n",
       "    .dataframe thead th {\n",
       "        text-align: right;\n",
       "    }\n",
       "</style>\n",
       "<table border=\"1\" class=\"dataframe\">\n",
       "  <thead>\n",
       "    <tr style=\"text-align: right;\">\n",
       "      <th></th>\n",
       "      <th>orders_count</th>\n",
       "      <th>shipping_delay_mean</th>\n",
       "      <th>payment_delay_mean</th>\n",
       "      <th>review_score_min</th>\n",
       "      <th>review_score_max</th>\n",
       "      <th>review_score_mean</th>\n",
       "      <th>review_score_count</th>\n",
       "      <th>customer_left_message_mean</th>\n",
       "      <th>review_delay_mean</th>\n",
       "    </tr>\n",
       "    <tr>\n",
       "      <th>customer_unique_id</th>\n",
       "      <th></th>\n",
       "      <th></th>\n",
       "      <th></th>\n",
       "      <th></th>\n",
       "      <th></th>\n",
       "      <th></th>\n",
       "      <th></th>\n",
       "      <th></th>\n",
       "      <th></th>\n",
       "    </tr>\n",
       "  </thead>\n",
       "  <tbody>\n",
       "    <tr>\n",
       "      <th>0000366f3b9a7992bf8c76cfdf3221e2</th>\n",
       "      <td>1</td>\n",
       "      <td>6.400914</td>\n",
       "      <td>14.850000</td>\n",
       "      <td>5</td>\n",
       "      <td>5</td>\n",
       "      <td>5.0</td>\n",
       "      <td>1</td>\n",
       "      <td>1.0</td>\n",
       "      <td>4.572778</td>\n",
       "    </tr>\n",
       "    <tr>\n",
       "      <th>0000b849f77a49e4a4ce2b2a4ca5be3f</th>\n",
       "      <td>1</td>\n",
       "      <td>2.984005</td>\n",
       "      <td>434.283333</td>\n",
       "      <td>4</td>\n",
       "      <td>4</td>\n",
       "      <td>4.0</td>\n",
       "      <td>1</td>\n",
       "      <td>0.0</td>\n",
       "      <td>0.937095</td>\n",
       "    </tr>\n",
       "    <tr>\n",
       "      <th>0000f46a3911fa3c0805444483337064</th>\n",
       "      <td>1</td>\n",
       "      <td>25.731759</td>\n",
       "      <td>0.000000</td>\n",
       "      <td>3</td>\n",
       "      <td>3</td>\n",
       "      <td>3.0</td>\n",
       "      <td>1</td>\n",
       "      <td>0.0</td>\n",
       "      <td>1.055370</td>\n",
       "    </tr>\n",
       "    <tr>\n",
       "      <th>0000f6ccb0745a6a4b88665a16c9f078</th>\n",
       "      <td>1</td>\n",
       "      <td>20.023472</td>\n",
       "      <td>19.600000</td>\n",
       "      <td>4</td>\n",
       "      <td>4</td>\n",
       "      <td>4.0</td>\n",
       "      <td>1</td>\n",
       "      <td>1.0</td>\n",
       "      <td>1.012396</td>\n",
       "    </tr>\n",
       "    <tr>\n",
       "      <th>0004aac84e0df4da2b147fca70cf8255</th>\n",
       "      <td>1</td>\n",
       "      <td>13.126435</td>\n",
       "      <td>21.166667</td>\n",
       "      <td>5</td>\n",
       "      <td>5</td>\n",
       "      <td>5.0</td>\n",
       "      <td>1</td>\n",
       "      <td>0.0</td>\n",
       "      <td>4.937211</td>\n",
       "    </tr>\n",
       "  </tbody>\n",
       "</table>\n",
       "</div>"
      ],
      "text/plain": [
       "                                  orders_count  shipping_delay_mean  \\\n",
       "customer_unique_id                                                    \n",
       "0000366f3b9a7992bf8c76cfdf3221e2             1             6.400914   \n",
       "0000b849f77a49e4a4ce2b2a4ca5be3f             1             2.984005   \n",
       "0000f46a3911fa3c0805444483337064             1            25.731759   \n",
       "0000f6ccb0745a6a4b88665a16c9f078             1            20.023472   \n",
       "0004aac84e0df4da2b147fca70cf8255             1            13.126435   \n",
       "\n",
       "                                  payment_delay_mean  review_score_min  \\\n",
       "customer_unique_id                                                       \n",
       "0000366f3b9a7992bf8c76cfdf3221e2           14.850000                 5   \n",
       "0000b849f77a49e4a4ce2b2a4ca5be3f          434.283333                 4   \n",
       "0000f46a3911fa3c0805444483337064            0.000000                 3   \n",
       "0000f6ccb0745a6a4b88665a16c9f078           19.600000                 4   \n",
       "0004aac84e0df4da2b147fca70cf8255           21.166667                 5   \n",
       "\n",
       "                                  review_score_max  review_score_mean  \\\n",
       "customer_unique_id                                                      \n",
       "0000366f3b9a7992bf8c76cfdf3221e2                 5                5.0   \n",
       "0000b849f77a49e4a4ce2b2a4ca5be3f                 4                4.0   \n",
       "0000f46a3911fa3c0805444483337064                 3                3.0   \n",
       "0000f6ccb0745a6a4b88665a16c9f078                 4                4.0   \n",
       "0004aac84e0df4da2b147fca70cf8255                 5                5.0   \n",
       "\n",
       "                                  review_score_count  \\\n",
       "customer_unique_id                                     \n",
       "0000366f3b9a7992bf8c76cfdf3221e2                   1   \n",
       "0000b849f77a49e4a4ce2b2a4ca5be3f                   1   \n",
       "0000f46a3911fa3c0805444483337064                   1   \n",
       "0000f6ccb0745a6a4b88665a16c9f078                   1   \n",
       "0004aac84e0df4da2b147fca70cf8255                   1   \n",
       "\n",
       "                                  customer_left_message_mean  \\\n",
       "customer_unique_id                                             \n",
       "0000366f3b9a7992bf8c76cfdf3221e2                         1.0   \n",
       "0000b849f77a49e4a4ce2b2a4ca5be3f                         0.0   \n",
       "0000f46a3911fa3c0805444483337064                         0.0   \n",
       "0000f6ccb0745a6a4b88665a16c9f078                         1.0   \n",
       "0004aac84e0df4da2b147fca70cf8255                         0.0   \n",
       "\n",
       "                                  review_delay_mean  \n",
       "customer_unique_id                                   \n",
       "0000366f3b9a7992bf8c76cfdf3221e2           4.572778  \n",
       "0000b849f77a49e4a4ce2b2a4ca5be3f           0.937095  \n",
       "0000f46a3911fa3c0805444483337064           1.055370  \n",
       "0000f6ccb0745a6a4b88665a16c9f078           1.012396  \n",
       "0004aac84e0df4da2b147fca70cf8255           4.937211  "
      ]
     },
     "execution_count": 34,
     "metadata": {},
     "output_type": "execute_result"
    }
   ],
   "source": [
    "app_reviews = pd.read_csv('./data/olist_order_reviews_dataset.csv', nrows=num_rows)\n",
    "app_reviews = app_reviews.join(oid_to_cuid, how='left', on='order_id')\n",
    "# only keep reviews corresponding to existing orders\n",
    "app_reviews = app_reviews[app_reviews[\"order_id\"].isin(app_orders[\"order_id\"])]\n",
    "# convert timestamps to datetime\n",
    "app_reviews[\"review_creation_date\"] = app_reviews[\"review_creation_date\"].apply(str_to_datetime)\n",
    "app_reviews[\"review_answer_timestamp\"] = app_reviews[\"review_answer_timestamp\"].apply(str_to_datetime)\n",
    "# create new features\n",
    "app_reviews['customer_left_message'] = 1 - app_reviews['review_comment_message'].isnull()\n",
    "app_reviews['review_delay'] = app_reviews[\"review_answer_timestamp\"] - app_reviews[\"review_creation_date\"]\n",
    "# convert to float\n",
    "app_reviews[\"review_delay\"] = app_reviews[\"review_delay\"].apply(lambda x: x.total_seconds() / 86400) # days\n",
    "# add aggregation to main dataframe\n",
    "reviews_aggs = {\n",
    "    'review_score': ['min', 'max', 'mean', 'count'],\n",
    "    'customer_left_message': ['mean'],\n",
    "    'review_delay': ['mean']\n",
    "}\n",
    "reviews = app_reviews.groupby('customer_unique_id').agg({**reviews_aggs})\n",
    "reviews.columns = pd.Index([e[0] + \"_\" + e[1] for e in reviews.columns.tolist()])\n",
    "app = app.join(reviews, how='left', on='customer_unique_id')\n",
    "\n",
    "app.head()"
   ]
  },
  {
   "cell_type": "code",
   "execution_count": 35,
   "id": "intensive-rendering",
   "metadata": {},
   "outputs": [
    {
     "data": {
      "text/plain": [
       "15"
      ]
     },
     "execution_count": 35,
     "metadata": {},
     "output_type": "execute_result"
    }
   ],
   "source": [
    "# cleaning\n",
    "del app_customers, app_orders, app_reviews, orders, reviews, cid_to_ucid, oid_to_cuid\n",
    "gc.collect()"
   ]
  },
  {
   "cell_type": "markdown",
   "id": "described-parts",
   "metadata": {},
   "source": [
    "# Réduction de dimension"
   ]
  },
  {
   "cell_type": "markdown",
   "id": "skilled-wireless",
   "metadata": {},
   "source": [
    "### ACP"
   ]
  },
  {
   "cell_type": "code",
   "execution_count": 36,
   "id": "coated-technique",
   "metadata": {},
   "outputs": [],
   "source": [
    "def make_acp(list_of_cols):\n",
    "    # choix du nombre de composantes à calculer\n",
    "    n_comp = len(list_of_cols)\n",
    "    # selection des colonnes à prendre en compte dans l'ACP\n",
    "    data_pca = app[list_of_cols]\n",
    "    X = data_pca.values\n",
    "    features = data_pca.columns\n",
    "    # affichage de la matrice de corrélation\n",
    "    d = pd.DataFrame(data=app, columns=list_of_cols)\n",
    "    corr = d.corr()\n",
    "    mask = np.triu(np.ones_like(corr, dtype=bool))\n",
    "    f, ax = plt.subplots(figsize=(11, 9))\n",
    "    cmap = sns.diverging_palette(230, 20, as_cmap=True)\n",
    "    sns.heatmap(corr, mask=mask, cmap=cmap, vmax=.8, center=0,\n",
    "    square=True, linewidths=.5, cbar_kws={\"shrink\": .5})\n",
    "    plt.show()\n",
    "    # Centrage et Réduction\n",
    "    std_scale = preprocessing.StandardScaler().fit(X)\n",
    "    X_scaled = std_scale.transform(X)\n",
    "    # Calcul des composantes principales\n",
    "    pca = decomposition.PCA(n_components=n_comp)\n",
    "    pca.fit(X_scaled)\n",
    "    # Eboulis des valeurs propres\n",
    "    display_scree_plot(pca)\n",
    "    # Cercle des corrélations\n",
    "    pcs = pca.components_\n",
    "    display_circles(pcs, n_comp, pca, [(0,1)],\n",
    "                    labels = np.array(features))\n",
    "    \n",
    "    plt.show()\n",
    "    \n",
    "    return pcs"
   ]
  },
  {
   "cell_type": "code",
   "execution_count": 37,
   "id": "floppy-essex",
   "metadata": {},
   "outputs": [
    {
     "data": {
      "image/png": "[encoded data removed]",
      "text/plain": [
       "<Figure size 792x648 with 2 Axes>"
      ]
     },
     "metadata": {
      "needs_background": "light"
     },
     "output_type": "display_data"
    },
    {
     "data": {
      "image/png": "[encoded data removed]",
      "text/plain": [
       "<Figure size 432x288 with 1 Axes>"
      ]
     },
     "metadata": {
      "needs_background": "light"
     },
     "output_type": "display_data"
    },
    {
     "data": {
      "image/png": "[encoded data removed]",
      "text/plain": [
       "<Figure size 504x432 with 1 Axes>"
      ]
     },
     "metadata": {
      "needs_background": "light"
     },
     "output_type": "display_data"
    }
   ],
   "source": [
    "comps = make_acp(app.columns.tolist())"
   ]
  },
  {
   "cell_type": "code",
   "execution_count": 38,
   "id": "concrete-islam",
   "metadata": {},
   "outputs": [
    {
     "name": "stdout",
     "output_type": "stream",
     "text": [
      "[[-5.47157220e-03  2.54292995e-01  1.10350673e-02 -5.45538892e-01\n",
      "  -5.45940031e-01 -5.48234545e-01 -6.53128465e-03  1.97232370e-01\n",
      "  -3.97230690e-03]\n",
      " [ 7.06275019e-01  6.15385235e-04 -3.33921744e-03 -3.89524953e-02\n",
      "   2.81782497e-02 -4.14352318e-03  7.06262670e-01  1.00710328e-03\n",
      "  -5.25515381e-03]\n",
      " [-6.55678248e-04 -1.31258277e-01  8.42042824e-01 -7.75473468e-03\n",
      "  -8.51120412e-03 -8.17661719e-03  6.74720343e-04  4.38916292e-02\n",
      "  -5.21160583e-01]\n",
      " [ 4.36885227e-03 -4.55621902e-03  5.23040591e-01  7.37906559e-03\n",
      "   7.07680887e-03  7.26684377e-03  4.52599990e-03  5.42079983e-02\n",
      "   8.50454210e-01]\n",
      " [-2.99219754e-03  3.67367069e-01  1.02855296e-01 -5.25073931e-02\n",
      "  -5.33078207e-02 -5.31015824e-02  3.37967043e-03 -9.19794326e-01\n",
      "  -1.31120395e-03]\n",
      " [-6.03994036e-04  8.84937006e-01  8.17149936e-02  1.77862610e-01\n",
      "   1.77391749e-01  1.78389938e-01  2.99462056e-03  3.31963999e-01\n",
      "  -7.12307247e-02]\n",
      " [ 7.07188828e-01  3.59120243e-03  1.51109510e-03  1.74175855e-03\n",
      "  -2.27752571e-03  2.37705326e-03 -7.06995772e-01 -3.39886574e-03\n",
      "  -5.80284509e-04]\n",
      " [ 3.15510582e-02 -4.85033176e-04 -8.14473920e-04  7.05545188e-01\n",
      "  -7.07066168e-01  1.18734353e-03  3.55736889e-02  3.77035040e-04\n",
      "  -1.25361319e-04]\n",
      " [-2.30598046e-03  1.29650453e-05  2.69610008e-06 -4.10568208e-01\n",
      "  -4.08381730e-01  8.15262070e-01  7.38352949e-04  5.49466288e-05\n",
      "  -2.73953028e-06]]\n"
     ]
    }
   ],
   "source": [
    "print(comps)"
   ]
  },
  {
   "cell_type": "markdown",
   "id": "foster-fields",
   "metadata": {},
   "source": [
    "### TSNE"
   ]
  },
  {
   "cell_type": "code",
   "execution_count": 39,
   "id": "known-letters",
   "metadata": {},
   "outputs": [],
   "source": [
    "# app_embedded = TSNE(n_components=2).fit_transform(app)"
   ]
  },
  {
   "cell_type": "markdown",
   "id": "tight-creativity",
   "metadata": {},
   "source": [
    "# Classification non supervisée"
   ]
  },
  {
   "cell_type": "code",
   "execution_count": 40,
   "id": "eastern-canyon",
   "metadata": {},
   "outputs": [
    {
     "data": {
      "text/plain": [
       "array([[1.03441631e+00, 1.21157737e+01, 3.98776245e+01, 4.13744118e+00,\n",
       "        4.16072896e+00, 4.14925343e+00, 1.03753828e+00, 4.07820848e-01,\n",
       "        3.13412310e+00],\n",
       "       [1.03827073e+00, 1.25549266e+01, 2.28842040e+03, 4.11138672e+00,\n",
       "        4.13335696e+00, 4.12235806e+00, 1.04429483e+00, 4.22897472e-01,\n",
       "        3.20743797e+00],\n",
       "       [1.04358664e+00, 1.22271988e+01, 1.17897384e+03, 4.11509152e+00,\n",
       "        4.14194146e+00, 4.12878763e+00, 1.04821594e+00, 4.12884885e-01,\n",
       "        3.23920881e+00],\n",
       "       [1.02256117e+00, 1.17187548e+01, 4.25774041e+03, 4.05338418e+00,\n",
       "        4.06482364e+00, 4.05898740e+00, 1.02446775e+00, 4.18462027e-01,\n",
       "        2.96598026e+00],\n",
       "       [1.01997147e+00, 9.73239608e+00, 7.04897563e+03, 4.12268188e+00,\n",
       "        4.13124108e+00, 4.12719924e+00, 1.01997147e+00, 3.88017118e-01,\n",
       "        3.36487004e+00],\n",
       "       [1.00000000e+00, 5.83509322e+00, 1.86954568e+04, 3.59459459e+00,\n",
       "        3.59459459e+00, 3.59459459e+00, 1.00000000e+00, 6.21621622e-01,\n",
       "        2.86252628e+00]])"
      ]
     },
     "execution_count": 40,
     "metadata": {},
     "output_type": "execute_result"
    }
   ],
   "source": [
    "kmeans = KMeans(n_clusters = 6).fit(app)\n",
    "kmeans.labels_\n",
    "kmeans.cluster_centers_"
   ]
  },
  {
   "cell_type": "markdown",
   "id": "economic-rescue",
   "metadata": {},
   "source": [
    "# Résultats"
   ]
  }
 ],
 "metadata": {
  "kernelspec": {
   "display_name": "Python 3",
   "language": "python",
   "name": "python3"
  },
  "language_info": {
   "codemirror_mode": {
    "name": "ipython",
    "version": 3
   },
   "file_extension": ".py",
   "mimetype": "text/x-python",
   "name": "python",
   "nbconvert_exporter": "python",
   "pygments_lexer": "ipython3",
   "version": "3.9.1"
  }
 },
 "nbformat": 4,
 "nbformat_minor": 5
}
