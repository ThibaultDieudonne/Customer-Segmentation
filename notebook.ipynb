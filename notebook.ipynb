{
 "cells": [
  {
   "cell_type": "code",
   "execution_count": 43,
   "id": "alternate-barcelona",
   "metadata": {},
   "outputs": [],
   "source": [
    "import os\n",
    "import numpy as np\n",
    "import pandas as pd\n",
    "import gc\n",
    "import matplotlib.pyplot as plt\n",
    "import seaborn as sns\n",
    "import warnings\n",
    "warnings.simplefilter(action='ignore', category=FutureWarning)\n",
    "\n",
    "# debug\n",
    "debug = False\n",
    "if not debug:\n",
    "    num_rows = None\n",
    "else:\n",
    "    num_rows = 10000\n",
    "    "
   ]
  },
  {
   "cell_type": "markdown",
   "id": "functional-billy",
   "metadata": {},
   "source": [
    "# Présentation du jeu de données\n",
    "\n",
    "**Ce diagramme présente les relations entre les données:**\n",
    "\n",
    "![image](https://i.imgur.com/HRhd2Y0.png)\n",
    "\n",
    "L'objectif est de segmenter les clients. Cependant, la base de donnée \"customers\" contient non pas une ligne par client mais une ligne par commande. On va donc créer notre propre dataframe a partir du jeu de données fourni."
   ]
  },
  {
   "cell_type": "markdown",
   "id": "passing-projector",
   "metadata": {},
   "source": [
    "# Analyse exploratoire & Feature engineering"
   ]
  },
  {
   "cell_type": "code",
   "execution_count": 47,
   "id": "interested-prayer",
   "metadata": {},
   "outputs": [
    {
     "name": "stdout",
     "output_type": "stream",
     "text": [
      "                                                customer_unique_id\n",
      "customer_id                                                       \n",
      "06b8999e2fba1a1fbc88172c00ba8bc7  861eff4711a542e4b93843c6dd7febb0\n",
      "18955e83d337fd6b2def6b18a428ac77  290c77bc529b7ac935b93aa66c333dc3\n",
      "4e7b3e00288586ebd08712fdd0374a03  060e732b5b29e8181a18229c7b0b2b5e\n",
      "b2b6027bc5c5109e529d4dc6358b12c3  259dac757896d24d7702b9acbbff3f3c\n",
      "4f2d8ab171c80ec8364f7c12e35b23ad  345ecd01c38d18a9036ed96c73b8d066\n",
      "                           order_id                       customer_id  \\\n",
      "0  e481f51cbdc54678b7cc49136f2d6af7  9ef432eb6251297304e76186b10a928d   \n",
      "1  53cdb2fc8bc7dce0b6741e2150273451  b0830fb4747a6c6d20dea0b8c802d7ef   \n",
      "2  47770eb9100c2d0c44946d9cf07ec65d  41ce2a54c0b03bf3443c3d931a367089   \n",
      "3  949d5b44dbf5de918fe9c16f97b45f8a  f88197465ea7920adcdbec7375364d82   \n",
      "4  ad21c59c0840e6cb83a9ceb5573f8159  8ab97904e6daea8866dbdbc4fb7aad2c   \n",
      "\n",
      "  order_status order_purchase_timestamp    order_approved_at  \\\n",
      "0    delivered      2017-10-02 10:56:33  2017-10-02 11:07:15   \n",
      "1    delivered      2018-07-24 20:41:37  2018-07-26 03:24:27   \n",
      "2    delivered      2018-08-08 08:38:49  2018-08-08 08:55:23   \n",
      "3    delivered      2017-11-18 19:28:06  2017-11-18 19:45:59   \n",
      "4    delivered      2018-02-13 21:18:39  2018-02-13 22:20:29   \n",
      "\n",
      "  order_delivered_carrier_date order_delivered_customer_date  \\\n",
      "0          2017-10-04 19:55:00           2017-10-10 21:25:13   \n",
      "1          2018-07-26 14:31:00           2018-08-07 15:27:45   \n",
      "2          2018-08-08 13:50:00           2018-08-17 18:06:29   \n",
      "3          2017-11-22 13:39:59           2017-12-02 00:28:42   \n",
      "4          2018-02-14 19:46:34           2018-02-16 18:17:02   \n",
      "\n",
      "  order_estimated_delivery_date  \n",
      "0           2017-10-18 00:00:00  \n",
      "1           2018-08-13 00:00:00  \n",
      "2           2018-09-04 00:00:00  \n",
      "3           2017-12-15 00:00:00  \n",
      "4           2018-02-26 00:00:00  \n",
      "                           order_id                       customer_id  \\\n",
      "0  e481f51cbdc54678b7cc49136f2d6af7  9ef432eb6251297304e76186b10a928d   \n",
      "1  53cdb2fc8bc7dce0b6741e2150273451  b0830fb4747a6c6d20dea0b8c802d7ef   \n",
      "2  47770eb9100c2d0c44946d9cf07ec65d  41ce2a54c0b03bf3443c3d931a367089   \n",
      "3  949d5b44dbf5de918fe9c16f97b45f8a  f88197465ea7920adcdbec7375364d82   \n",
      "4  ad21c59c0840e6cb83a9ceb5573f8159  8ab97904e6daea8866dbdbc4fb7aad2c   \n",
      "\n",
      "  order_status order_purchase_timestamp    order_approved_at  \\\n",
      "0    delivered      2017-10-02 10:56:33  2017-10-02 11:07:15   \n",
      "1    delivered      2018-07-24 20:41:37  2018-07-26 03:24:27   \n",
      "2    delivered      2018-08-08 08:38:49  2018-08-08 08:55:23   \n",
      "3    delivered      2017-11-18 19:28:06  2017-11-18 19:45:59   \n",
      "4    delivered      2018-02-13 21:18:39  2018-02-13 22:20:29   \n",
      "\n",
      "  order_delivered_carrier_date order_delivered_customer_date  \\\n",
      "0          2017-10-04 19:55:00           2017-10-10 21:25:13   \n",
      "1          2018-07-26 14:31:00           2018-08-07 15:27:45   \n",
      "2          2018-08-08 13:50:00           2018-08-17 18:06:29   \n",
      "3          2017-11-22 13:39:59           2017-12-02 00:28:42   \n",
      "4          2018-02-14 19:46:34           2018-02-16 18:17:02   \n",
      "\n",
      "  order_estimated_delivery_date                customer_unique_id  \n",
      "0           2017-10-18 00:00:00  7c396fd4830fd04220f754e42b4e5bff  \n",
      "1           2018-08-13 00:00:00  af07308b275d755c9edb36a90c618231  \n",
      "2           2018-09-04 00:00:00  3a653a41f6f9fc3d2a113cf8398680e8  \n",
      "3           2017-12-15 00:00:00  7c142cf63193a1473d2e66489a9ae977  \n",
      "4           2018-02-26 00:00:00  72632f0f9dd73dfee390c9b22eb56dd6  \n"
     ]
    },
    {
     "data": {
      "text/plain": [
       "15"
      ]
     },
     "execution_count": 47,
     "metadata": {},
     "output_type": "execute_result"
    }
   ],
   "source": [
    "# process_customers\n",
    "app_customers = pd.read_csv('./data/olist_customers_dataset.csv', nrows= num_rows)\n",
    "app_aggs = {'customer_id': ['count']}\n",
    "app = app_customers.groupby('customer_unique_id').agg({**app_aggs})\n",
    "app.columns = pd.Index([\"orders_count\"])\n",
    "\n",
    "# get hash table for unique ids\n",
    "unique_ids = pd.DataFrame(data=app_customers[['customer_id', 'customer_unique_id']])\n",
    "unique_ids = unique_ids.set_index('customer_id')\n",
    "\n",
    "# process orders\n",
    "app_orders = pd.read_csv('./data/olist_orders_dataset.csv', nrows= num_rows)\n",
    "app_orders = app_orders.join(unique_ids, how='left', on='customer_id')\n",
    "\n",
    "# app = app.join(orders, how='left', on='SK_ID_CURR') # need to change ids\n",
    "print(app_orders.head())\n",
    "\n",
    "\n",
    "\n",
    "# cleaning\n",
    "del app_customers\n",
    "del app_orders\n",
    "del unique_ids\n",
    "gc.collect()"
   ]
  },
  {
   "cell_type": "code",
   "execution_count": null,
   "id": "broadband-newsletter",
   "metadata": {},
   "outputs": [],
   "source": []
  },
  {
   "cell_type": "markdown",
   "id": "described-parts",
   "metadata": {},
   "source": [
    "# Réductions de dimensionnalité "
   ]
  },
  {
   "cell_type": "markdown",
   "id": "tight-creativity",
   "metadata": {},
   "source": [
    "# Classification non supervisée"
   ]
  },
  {
   "cell_type": "markdown",
   "id": "economic-rescue",
   "metadata": {},
   "source": [
    "# Résultats"
   ]
  }
 ],
 "metadata": {
  "kernelspec": {
   "display_name": "Python 3",
   "language": "python",
   "name": "python3"
  },
  "language_info": {
   "codemirror_mode": {
    "name": "ipython",
    "version": 3
   },
   "file_extension": ".py",
   "mimetype": "text/x-python",
   "name": "python",
   "nbconvert_exporter": "python",
   "pygments_lexer": "ipython3",
   "version": "3.9.1"
  }
 },
 "nbformat": 4,
 "nbformat_minor": 5
}
